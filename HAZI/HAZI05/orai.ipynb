{
 "cells": [
  {
   "cell_type": "code",
   "execution_count": 4,
   "metadata": {},
   "outputs": [],
   "source": [
    "import numpy as np\n",
    "import seaborn as sns\n",
    "from typing import Tuple\n",
    "from scipy.stats import mode\n",
    "from sklearn.metrics import confusion_matrix\n",
    "\n",
    "\n",
    "\n",
    "csv_path = \"iris.csv\""
   ]
  },
  {
   "attachments": {},
   "cell_type": "markdown",
   "metadata": {},
   "source": [
    "Load data and clean, try loading without shuffle"
   ]
  },
  {
   "cell_type": "code",
   "execution_count": 5,
   "metadata": {},
   "outputs": [],
   "source": [
    "def load_csv(csv_path:str) ->Tuple[np.ndarray,np.ndarray]:\n",
    "    np.random.seed(42)\n",
    "    dataset = np.genfromtxt(csv_path,delimiter=',')\n",
    "    np.random.shuffle(dataset)\n",
    "    x,y = dataset[:,:4],dataset[:,-1]\n",
    "    return x,y"
   ]
  },
  {
   "cell_type": "code",
   "execution_count": 6,
   "metadata": {},
   "outputs": [
    {
     "data": {
      "text/plain": [
       "(array([[ 6.100e+00,  2.800e+00,  4.700e+00,  1.200e+00],\n",
       "        [ 5.700e+00,  3.800e+00,  1.700e+00,  3.000e-01],\n",
       "        [ 7.700e+00,  2.600e+00,  6.900e+00,  2.300e+00],\n",
       "        [ 6.000e+00,  2.900e+00,  4.500e+00,  1.500e+00],\n",
       "        [ 6.800e+00,  2.800e+00, -1.111e+03,  1.400e+00],\n",
       "        [ 5.400e+00,  3.400e+00,  1.500e+00,  4.000e-01],\n",
       "        [ 5.600e+00,  2.900e+00,  3.600e+00,  1.300e+00],\n",
       "        [ 6.900e+00,  3.100e+00,  5.100e+00,  2.300e+00],\n",
       "        [ 6.200e+00,  2.200e+00,  4.500e+00,  1.500e+00],\n",
       "        [ 5.800e+00,  2.700e+00,  3.900e+00,  1.200e+00],\n",
       "        [ 6.500e+00,  3.200e+00,  5.100e+00,  2.000e+00],\n",
       "        [ 4.800e+00,  3.000e+00,  1.400e+00,  1.000e-01],\n",
       "        [ 5.500e+00,  3.500e+00,        nan,  2.000e-01],\n",
       "        [ 4.900e+00,  3.100e+00,  1.500e+00,  1.000e-01],\n",
       "        [ 5.100e+00,  1.000e+02,  1.500e+00,  3.000e-01],\n",
       "        [ 6.300e+00,  3.300e+00,  4.700e+00,  1.600e+00],\n",
       "        [ 6.500e+00,  3.000e+00,  5.800e+00,  2.200e+00],\n",
       "        [ 5.600e+00,  2.500e+00,  3.900e+00,  1.100e+00],\n",
       "        [       nan,  2.800e+00,  4.500e+00,        nan],\n",
       "        [ 6.400e+00,        nan,  5.600e+00,  2.200e+00],\n",
       "        [ 4.700e+00,  3.200e+00,  1.600e+00,  2.000e-01],\n",
       "        [ 6.100e+00,  3.000e+00,  4.900e+00,  1.800e+00],\n",
       "        [ 5.000e+00,  3.400e+00,  1.600e+00,  4.000e-01],\n",
       "        [ 6.400e+00,  2.800e+00,  5.600e+00,  2.100e+00],\n",
       "        [ 7.900e+00,  3.800e+00,  6.400e+00,  2.000e+00],\n",
       "        [ 6.700e+00,  3.000e+00,  5.200e+00,  2.300e+00],\n",
       "        [ 6.700e+00,  2.500e+00,  5.800e+00,  1.800e+00],\n",
       "        [ 6.800e+00,  3.200e+00,  1.000e+03,  2.300e+00],\n",
       "        [ 5.000e+04,  3.000e+00,  1.400e+00,  3.000e-01],\n",
       "        [ 4.800e+00,  3.100e+00,  1.600e+00,  2.000e-01],\n",
       "        [ 4.600e+00,  3.600e+00,  1.000e+00,  2.000e-01],\n",
       "        [ 5.700e+00,  4.400e+00,  1.500e+00,  4.000e-01],\n",
       "        [ 6.700e+00,  3.100e+00,  4.400e+00,  1.400e+00],\n",
       "        [       nan,  3.400e+00,  1.600e+00,  2.000e-01],\n",
       "        [ 4.400e+00,  3.200e+00,  1.300e+00,  2.000e-01],\n",
       "        [ 6.300e+00,  2.500e+00,  5.000e+00,  1.900e+00],\n",
       "        [ 6.400e+00,  3.200e+00,  4.500e+00,  1.500e+00],\n",
       "        [ 5.200e+00,  3.500e+00,  1.500e+00,  2.000e-01],\n",
       "        [ 5.000e+00,  3.600e+00,  1.400e+00,  2.000e-01],\n",
       "        [ 5.200e+00,  4.100e+00,  1.500e+00,  1.000e-01],\n",
       "        [ 5.800e+00,  2.700e+00,  5.100e+00,  1.900e+00],\n",
       "        [ 6.000e+00,  3.400e+00,  4.500e+00,  1.600e+00],\n",
       "        [ 6.700e+00,  3.100e+00,  4.700e+00,  1.500e+00],\n",
       "        [ 5.400e+00,  3.900e+00,  1.300e+00,  4.000e-01],\n",
       "        [ 5.400e+00,  3.700e+00,  1.500e+00,  2.000e-01],\n",
       "        [ 5.500e+00,  2.400e+00,  3.700e+00,  1.000e+00],\n",
       "        [ 6.300e+00,  2.800e+00,  5.100e+00,  1.500e+00],\n",
       "        [ 6.400e+00,  3.100e+00,  5.500e+00,  1.800e+00],\n",
       "        [ 6.600e+00,  3.000e+00,  4.400e+00,  1.400e+00],\n",
       "        [ 7.200e+00,  3.600e+00,  6.100e+00,  2.500e+00],\n",
       "        [ 5.700e+00,  2.900e+00,  4.200e+00,  1.300e+00],\n",
       "        [ 7.600e+00,  3.000e+00,  6.600e+00,  2.100e+00],\n",
       "        [       nan,  3.000e+00,  4.500e+00,  1.500e+00],\n",
       "        [ 5.100e+00,  3.500e+00,  1.400e+00,  2.000e-01],\n",
       "        [ 7.700e+00,  2.800e+00,  6.700e+00,  2.000e+00],\n",
       "        [ 5.800e+00,  2.700e+00,  4.100e+00,  1.000e+00],\n",
       "        [ 5.200e+00,  3.400e+00,  1.400e+00,  2.000e-01],\n",
       "        [ 5.000e+00,  3.500e+00,  1.300e+00,  3.000e-01],\n",
       "        [ 5.100e+00,  3.800e+00,  1.900e+00,  4.000e-01],\n",
       "        [ 5.000e+00,  2.000e+00,  3.500e+00,  1.000e+00],\n",
       "        [ 6.300e+00,  2.700e+00,  4.900e+00,  1.800e+00],\n",
       "        [ 4.800e+00,  3.400e+00,  1.900e+00,  2.000e-01],\n",
       "        [ 5.000e+00,  3.000e+00,  1.600e+00,  3.000e+03],\n",
       "        [       nan,  3.300e+00,  1.700e+00,  5.000e-01],\n",
       "        [ 5.600e+00,  2.700e+00,        nan,  1.300e+00],\n",
       "        [ 5.100e+00,  3.400e+00,  1.500e+00,  2.000e-01],\n",
       "        [ 5.700e+00,  3.000e+00,  4.200e+00,  1.200e+00],\n",
       "        [ 7.700e+00,  3.800e+00,  6.700e+00,  2.200e+00],\n",
       "        [ 4.600e+00,  3.200e+00,  1.400e+00,  2.000e-01],\n",
       "        [ 6.200e+00,  2.900e+00,  4.300e+00,  1.300e+00],\n",
       "        [ 5.700e+00,  2.500e+00,  5.000e+00,  2.000e+00],\n",
       "        [ 5.500e+00,  4.200e+00,  1.400e+00,  2.000e-01],\n",
       "        [ 6.000e+00,  3.000e+00,  4.800e+00,        nan],\n",
       "        [ 5.800e+00,  2.700e+00,  5.100e+00,  1.900e+00],\n",
       "        [ 6.000e+00,  2.200e+00,  4.000e+00,  1.000e+00],\n",
       "        [ 5.400e+00,  3.000e+00,  4.500e+00,  1.500e+00],\n",
       "        [       nan,  3.400e+00,  5.400e+00,  2.300e+00],\n",
       "        [ 5.500e+00,  2.300e+00,  4.000e+00,  1.300e+00],\n",
       "        [ 5.400e+00,  3.900e+00,  1.700e+00,        nan],\n",
       "        [ 5.000e+00,  2.300e+00,  3.300e+00,  1.000e+00],\n",
       "        [ 6.400e+00,  2.700e+00,  5.300e+00,  1.900e+00],\n",
       "        [ 5.000e+00,  3.300e+00,  1.400e+00,  2.000e-01],\n",
       "        [ 5.000e+00,  3.200e+00,  1.200e+00,  2.000e-01],\n",
       "        [ 5.500e+00,  2.400e+00,  3.800e+00,  1.100e+00],\n",
       "        [ 6.700e+00,  3.000e+00,  5.000e+00,  1.700e+00],\n",
       "        [ 4.900e+00,  3.100e+00,  1.500e+00,  1.000e-01],\n",
       "        [ 5.800e+00,  2.800e+00,  5.100e+00,  2.400e+00],\n",
       "        [ 5.000e+00,  3.400e+00,  1.500e+00,  2.000e-01],\n",
       "        [ 5.000e+00,  3.500e+00,  1.600e+00,  6.000e-01],\n",
       "        [ 5.900e+00,  3.200e+00,  4.800e+00,  1.800e+00],\n",
       "        [ 5.100e+00,  2.500e+00,  3.000e+00,  1.100e+00],\n",
       "        [ 6.900e+00,  3.200e+00,  5.700e+00,  2.300e+00],\n",
       "        [ 6.000e+00,  2.700e+00,  5.100e+00,  1.600e+00],\n",
       "        [ 6.100e+00,  2.600e+00,  5.600e+00,  1.400e+00],\n",
       "        [ 7.700e+00,  3.000e+00,  6.100e+00,  2.300e+00],\n",
       "        [ 5.500e+00,  2.500e+00,  4.000e+00,  1.300e+00],\n",
       "        [ 4.400e+00,  2.900e+00,  1.400e+00,  2.000e-01],\n",
       "        [ 4.300e+00,  3.000e+00,  1.100e+00,  1.000e-01],\n",
       "        [ 6.000e+00,  2.200e+00,  5.000e+00,  1.500e+00],\n",
       "        [ 7.200e+00,  3.200e+00,  6.000e+00,  1.800e+00],\n",
       "        [ 4.600e+00,  3.100e+00,  1.500e+00,  2.000e-01],\n",
       "        [ 5.100e+00,  3.500e+00,  1.400e+00,  3.000e-01],\n",
       "        [ 4.400e+00,  3.000e+00,  1.300e+00,  2.000e-01],\n",
       "        [ 6.300e+00,  2.500e+00,  4.900e+00,  1.500e+00],\n",
       "        [ 6.300e+00,  3.400e+00,  5.600e+00,  2.400e+00],\n",
       "        [ 4.600e+00,  3.400e+00,  1.400e+00,  3.000e-01],\n",
       "        [ 6.800e+00,  3.000e+00,  5.500e+00,  2.100e+00],\n",
       "        [ 6.300e+00,  3.300e+00,  6.000e+00,  2.500e+00],\n",
       "        [ 4.700e+00,  3.200e+00,  1.300e+00,  2.000e-01],\n",
       "        [ 6.100e+00,  2.900e+00,  4.700e+00,  1.400e+00],\n",
       "        [ 6.500e+00,  2.800e+00,  4.600e+00,  1.500e+00],\n",
       "        [ 6.200e+00,  2.800e+00,  4.800e+00,  1.800e+00],\n",
       "        [ 7.000e+00,  3.200e+00,  4.700e+00,  1.400e+00],\n",
       "        [ 6.400e+00,  3.200e+00,  5.300e+00,  2.300e+00],\n",
       "        [ 5.100e+00,  3.800e+00,  1.600e+00,  2.000e-01],\n",
       "        [ 6.900e+00,  3.100e+00,  5.400e+00,  2.100e+00],\n",
       "        [ 5.900e+00,  3.000e+00,  4.200e+00,  1.500e+00],\n",
       "        [ 6.500e+00,  3.000e+00,  5.200e+00,  2.000e+00],\n",
       "        [ 5.700e+00,  2.600e+00,  3.500e+00,        nan],\n",
       "        [ 5.200e+00,  2.700e+00,  3.900e+00,  1.400e+00],\n",
       "        [       nan,  3.000e+00,  4.600e+00,  1.400e+00],\n",
       "        [ 4.500e+00,  2.300e+00,  1.300e+00,  3.000e-01],\n",
       "        [ 6.600e+00,  2.900e+00,  4.600e+00,  1.300e+00],\n",
       "        [ 5.500e+00,  2.600e+00,  4.400e+00,  1.200e+00],\n",
       "        [ 5.300e+00,  3.700e+00,  1.500e+00,  2.000e-01],\n",
       "        [ 5.600e+00,  3.000e+00,  4.100e+00,  1.300e+00],\n",
       "        [ 7.300e+00,  2.900e+00,  6.300e+00,  1.800e+00],\n",
       "        [ 6.700e+00,  3.300e+00,  5.700e+00,  2.100e+00],\n",
       "        [ 5.100e+00,  3.700e+00,  1.500e+00,  4.000e-01],\n",
       "        [ 4.900e+00,  2.400e+00,  3.300e+00,  1.000e+00],\n",
       "        [ 6.700e+00,  3.300e+00,  5.700e+00,  2.500e+00],\n",
       "        [ 7.200e+00,  3.000e+00,  5.800e+00,  1.600e+00],\n",
       "        [ 4.900e+00,  3.100e+00,  1.500e+00,  1.000e-01],\n",
       "        [       nan,  3.100e+00,  5.600e+00,  2.400e+00],\n",
       "        [ 4.900e+00,  3.000e+00,  1.400e+00,  2.000e-01],\n",
       "        [ 6.900e+00,  3.100e+00,  4.900e+00,  1.500e+00],\n",
       "        [ 7.400e+00,  2.800e+00,  6.100e+00,  1.900e+00],\n",
       "        [ 6.300e+00,  2.900e+00,  5.600e+00,  1.800e+00],\n",
       "        [ 5.700e+00,  2.800e+00,  4.100e+00,  1.300e+00],\n",
       "        [ 6.500e+00,  3.000e+00,  5.500e+00,  1.800e+00],\n",
       "        [ 6.300e+00, -4.200e+04,  4.400e+00,  1.300e+00],\n",
       "        [ 6.400e+00,  2.900e+00,  4.300e+00,  1.300e+00],\n",
       "        [ 5.600e+00,        nan,  4.900e+00,  2.000e+00],\n",
       "        [ 5.900e+00,  3.000e+00,  5.100e+00,  1.800e+00],\n",
       "        [ 5.400e+00,  3.400e+00,  1.700e+00,  2.000e-01],\n",
       "        [ 6.100e+00,  2.800e+00,  4.000e+00,  1.300e+00],\n",
       "        [ 4.900e+00,  2.500e+00,  4.500e+00,  1.700e+00],\n",
       "        [ 5.800e+00,  4.000e+00,  1.200e+00,  2.000e-01],\n",
       "        [ 5.800e+00,  2.600e+00,  4.000e+00,  1.200e+00],\n",
       "        [ 7.100e+00,  3.000e+00,  5.900e+00,  2.100e+00]]),\n",
       " array([1., 0., 2., 1., 1., 0., 1., 2., 1., 1., 2., 0., 0., 0., 0., 1., 2.,\n",
       "        1., 1., 2., 0., 2., 0., 2., 2., 2., 2., 2., 0., 0., 0., 0., 1., 0.,\n",
       "        0., 2., 1., 0., 0., 0., 2., 1., 1., 0., 0., 1., 2., 2., 1., 2., 1.,\n",
       "        2., 1., 0., 2., 1., 0., 0., 0., 1., 2., 0., 0., 0., 1., 0., 1., 2.,\n",
       "        0., 1., 2., 0., 2., 2., 1., 1., 2., 1., 0., 1., 2., 0., 0., 1., 1.,\n",
       "        0., 2., 0., 0., 1., 1., 2., 1., 2., 2., 1., 0., 0., 2., 2., 0., 0.,\n",
       "        0., 1., 2., 0., 2., 2., 0., 1., 1., 2., 1., 2., 0., 2., 1., 2., 1.,\n",
       "        1., 1., 0., 1., 1., 0., 1., 2., 2., 0., 1., 2., 2., 0., 2., 0., 1.,\n",
       "        2., 2., 1., 2., 1., 1., 2., 2., 0., 1., 2., 0., 1., 2.]))"
      ]
     },
     "execution_count": 6,
     "metadata": {},
     "output_type": "execute_result"
    }
   ],
   "source": [
    "x,y = load_csv(csv_path)\n",
    "x,y"
   ]
  },
  {
   "cell_type": "code",
   "execution_count": 7,
   "metadata": {},
   "outputs": [
    {
     "data": {
      "text/plain": [
       "(array([nan, nan, nan, nan]), array([nan, nan, nan, nan]))"
      ]
     },
     "execution_count": 7,
     "metadata": {},
     "output_type": "execute_result"
    }
   ],
   "source": [
    "np.mean(x,axis=0),np.var(x,axis=0)"
   ]
  },
  {
   "cell_type": "code",
   "execution_count": 8,
   "metadata": {},
   "outputs": [
    {
     "data": {
      "text/plain": [
       "(array([ 355.46503497, -280.09189189,    2.95      ,   21.74726027]),\n",
       " array([1.73561968e+07, 1.18405444e+07, 1.51049922e+04, 6.11729208e+04]))"
      ]
     },
     "execution_count": 8,
     "metadata": {},
     "output_type": "execute_result"
    }
   ],
   "source": [
    "np.nanmean(x,axis=0),np.nanvar(x,axis=0)"
   ]
  },
  {
   "cell_type": "code",
   "execution_count": 9,
   "metadata": {},
   "outputs": [
    {
     "data": {
      "text/plain": [
       "(150, 4)"
      ]
     },
     "execution_count": 9,
     "metadata": {},
     "output_type": "execute_result"
    }
   ],
   "source": [
    "x[np.isnan(x)] = 3.5\n",
    "x.shape"
   ]
  },
  {
   "cell_type": "code",
   "execution_count": 10,
   "metadata": {},
   "outputs": [
    {
     "data": {
      "text/plain": [
       "(array([ 339.04      , -276.31066667,    2.95733333,   21.26066667]),\n",
       " array([1.65517522e+07, 1.16837285e+07, 1.49035963e+04, 5.95502852e+04]))"
      ]
     },
     "execution_count": 10,
     "metadata": {},
     "output_type": "execute_result"
    }
   ],
   "source": [
    "np.mean(x,axis=0),np.var(x,axis=0)"
   ]
  },
  {
   "cell_type": "code",
   "execution_count": 11,
   "metadata": {},
   "outputs": [
    {
     "data": {
      "text/plain": [
       "(4, 2)"
      ]
     },
     "execution_count": 11,
     "metadata": {},
     "output_type": "execute_result"
    }
   ],
   "source": [
    "(x > 13.0).sum(), (x < 0.0).sum()"
   ]
  },
  {
   "cell_type": "code",
   "execution_count": 12,
   "metadata": {},
   "outputs": [
    {
     "data": {
      "text/plain": [
       "array([ -1111.,    100.,   1000.,  50000.,   3000., -42000.])"
      ]
     },
     "execution_count": 12,
     "metadata": {},
     "output_type": "execute_result"
    }
   ],
   "source": [
    "x[np.where(np.logical_or(x > 13.0,x < 0.0))]"
   ]
  },
  {
   "cell_type": "code",
   "execution_count": 13,
   "metadata": {},
   "outputs": [
    {
     "data": {
      "text/plain": [
       "((array([  4, 140], dtype=int64), array([2, 1], dtype=int64)),\n",
       " (array([14, 27, 28, 62], dtype=int64), array([1, 2, 0, 3], dtype=int64)))"
      ]
     },
     "execution_count": 13,
     "metadata": {},
     "output_type": "execute_result"
    }
   ],
   "source": [
    "less_than = np.where(x < 0.0)\n",
    "higher_than = np.where(x > 13.0)\n",
    "less_than,higher_than"
   ]
  },
  {
   "cell_type": "code",
   "execution_count": 14,
   "metadata": {},
   "outputs": [
    {
     "data": {
      "text/plain": [
       "((144, 4), (144,))"
      ]
     },
     "execution_count": 14,
     "metadata": {},
     "output_type": "execute_result"
    }
   ],
   "source": [
    "y = np.delete(y,np.where(x < 0.0)[0],axis=0)\n",
    "y = np.delete(y,np.where(x > 13.0)[0],axis=0)\n",
    "x = np.delete(x,np.where(x < 0.0)[0],axis=0)\n",
    "x = np.delete(x,np.where(x > 13.0)[0],axis=0)\n",
    "x.shape,y.shape"
   ]
  },
  {
   "attachments": {},
   "cell_type": "markdown",
   "metadata": {},
   "source": [
    "Train test split\n",
    "try optim"
   ]
  },
  {
   "cell_type": "code",
   "execution_count": 15,
   "metadata": {},
   "outputs": [],
   "source": [
    "def train_test_split(features:np.ndarray,\n",
    "                     labels:np.ndarray,\n",
    "                     test_split_ratio:float) -> None:\n",
    "        \n",
    "    test_size = int(len(features) * test_split_ratio)\n",
    "    train_size = len(features) - test_size\n",
    "    assert len(features) == test_size + train_size, \"Size mismatch!\"\n",
    "\n",
    "    x_train,y_train = features[:train_size,:],labels[:train_size]\n",
    "    x_test,y_test = features[train_size:train_size+test_size,:], labels[train_size:train_size + test_size]\n",
    "    return (x_train,y_train,x_test,y_test)\n",
    "\n",
    "xtrain,ytrain,xtest,ytest = train_test_split(x,y,0.15)"
   ]
  },
  {
   "attachments": {},
   "cell_type": "markdown",
   "metadata": {},
   "source": [
    "Distance"
   ]
  },
  {
   "cell_type": "code",
   "execution_count": 16,
   "metadata": {},
   "outputs": [],
   "source": [
    "def euclidean(points:np.ndarray,element_of_x:np.ndarray) -> np.ndarray:\n",
    "    return np.sqrt(np.sum((points - element_of_x)**2,axis=1))"
   ]
  },
  {
   "attachments": {},
   "cell_type": "markdown",
   "metadata": {},
   "source": [
    "Predict func"
   ]
  },
  {
   "cell_type": "code",
   "execution_count": 17,
   "metadata": {},
   "outputs": [
    {
     "name": "stdout",
     "output_type": "stream",
     "text": [
      "<class 'numpy.ndarray'>\n",
      "(123,)\n"
     ]
    },
    {
     "data": {
      "text/plain": [
       "array([1., 0., 2., 1., 0., 1., 2., 1., 1., 2., 0., 0., 0., 0., 2., 1., 1.,\n",
       "       2., 0., 2., 0., 2., 2., 2., 2., 2., 0., 0., 1., 0., 0., 2., 1., 0.,\n",
       "       0., 0., 2., 1., 1., 0., 0., 1., 2., 2., 1., 2., 1., 2., 1., 0., 2.,\n",
       "       1., 0., 0., 0., 1., 2., 0., 0., 1., 0., 1., 2., 0., 1., 2., 0., 2.,\n",
       "       2., 1., 1., 2., 1., 0., 1., 2., 0., 0., 1., 1., 0., 2., 0., 0., 1.,\n",
       "       1., 2., 1., 2., 2., 1., 0., 0., 2., 2., 0., 0., 0., 1., 2., 0., 2.,\n",
       "       2., 0., 1., 1., 2., 1., 2., 0., 2., 1., 2., 1., 1., 1., 0., 1., 1.,\n",
       "       0., 1., 2., 2.])"
      ]
     },
     "execution_count": 17,
     "metadata": {},
     "output_type": "execute_result"
    }
   ],
   "source": [
    "print(type(ytrain))\n",
    "print(ytrain.shape)\n",
    "ytrain"
   ]
  },
  {
   "cell_type": "code",
   "execution_count": 18,
   "metadata": {},
   "outputs": [],
   "source": [
    "def predict(x_train:np.ndarray,y_train:np.ndarray,x_test:np.ndarray,k:int) -> np.ndarray:\n",
    "    labels_pred = []\n",
    "    for x_test_element in x_test:\n",
    "        distances = euclidean(x_train,x_test_element)\n",
    "        #print(sorted(distances))\n",
    "        #print(sorted(y_train))\n",
    "        distances = np.array(sorted(zip(distances,y_train)))\n",
    "        #print(distances)\n",
    "        \n",
    "        label_pred = mode(distances[:k,1],keepdims=False).mode\n",
    "        labels_pred.append(label_pred)\n",
    "    return np.array(labels_pred,dtype=np.int32)\n",
    "\n",
    "ypreds = predict(xtrain,ytrain,xtest,3)\n"
   ]
  },
  {
   "attachments": {},
   "cell_type": "markdown",
   "metadata": {},
   "source": [
    "Metrics"
   ]
  },
  {
   "cell_type": "code",
   "execution_count": 19,
   "metadata": {},
   "outputs": [
    {
     "data": {
      "text/plain": [
       "85.71428571428571"
      ]
     },
     "execution_count": 19,
     "metadata": {},
     "output_type": "execute_result"
    }
   ],
   "source": [
    "def accuracy(y_test:np.ndarray,y_preds:np.ndarray) -> float:\n",
    "    true_positive = (y_test == y_preds).sum()\n",
    "    return true_positive / len(y_test) * 100\n",
    "\n",
    "accuracy(ytest,ypreds)"
   ]
  },
  {
   "cell_type": "code",
   "execution_count": 25,
   "metadata": {},
   "outputs": [
    {
     "ename": "ValueError",
     "evalue": "unknown is not supported",
     "output_type": "error",
     "traceback": [
      "\u001b[1;31m---------------------------------------------------------------------------\u001b[0m",
      "\u001b[1;31mValueError\u001b[0m                                Traceback (most recent call last)",
      "Cell \u001b[1;32mIn[25], line 12\u001b[0m\n\u001b[0;32m      7\u001b[0m a \u001b[39m=\u001b[39m pd\u001b[39m.\u001b[39mDataFrame(ytest,dtype\u001b[39m=\u001b[39mpd\u001b[39m.\u001b[39mInt16Dtype)\n\u001b[0;32m      8\u001b[0m b\u001b[39m=\u001b[39mpd\u001b[39m.\u001b[39mDataFrame(ypreds,dtype\u001b[39m=\u001b[39mpd\u001b[39m.\u001b[39mInt16Dtype)\n\u001b[1;32m---> 12\u001b[0m confusion_matrix(a,b)\n\u001b[0;32m     13\u001b[0m \u001b[39m#confusion_matrix(ytest,ypreds)\u001b[39;00m\n\u001b[0;32m     14\u001b[0m \u001b[39m#plot_confusion_matrix(ytest,ypreds)\u001b[39;00m\n",
      "File \u001b[1;32mc:\\Users\\User\\AppData\\Local\\Programs\\Python\\Python311\\Lib\\site-packages\\sklearn\\metrics\\_classification.py:317\u001b[0m, in \u001b[0;36mconfusion_matrix\u001b[1;34m(y_true, y_pred, labels, sample_weight, normalize)\u001b[0m\n\u001b[0;32m    232\u001b[0m \u001b[39mdef\u001b[39;00m \u001b[39mconfusion_matrix\u001b[39m(\n\u001b[0;32m    233\u001b[0m     y_true, y_pred, \u001b[39m*\u001b[39m, labels\u001b[39m=\u001b[39m\u001b[39mNone\u001b[39;00m, sample_weight\u001b[39m=\u001b[39m\u001b[39mNone\u001b[39;00m, normalize\u001b[39m=\u001b[39m\u001b[39mNone\u001b[39;00m\n\u001b[0;32m    234\u001b[0m ):\n\u001b[0;32m    235\u001b[0m \u001b[39m    \u001b[39m\u001b[39m\"\"\"Compute confusion matrix to evaluate the accuracy of a classification.\u001b[39;00m\n\u001b[0;32m    236\u001b[0m \n\u001b[0;32m    237\u001b[0m \u001b[39m    By definition a confusion matrix :math:`C` is such that :math:`C_{i, j}`\u001b[39;00m\n\u001b[1;32m   (...)\u001b[0m\n\u001b[0;32m    315\u001b[0m \u001b[39m    (0, 2, 1, 1)\u001b[39;00m\n\u001b[0;32m    316\u001b[0m \u001b[39m    \"\"\"\u001b[39;00m\n\u001b[1;32m--> 317\u001b[0m     y_type, y_true, y_pred \u001b[39m=\u001b[39m _check_targets(y_true, y_pred)\n\u001b[0;32m    318\u001b[0m     \u001b[39mif\u001b[39;00m y_type \u001b[39mnot\u001b[39;00m \u001b[39min\u001b[39;00m (\u001b[39m\"\u001b[39m\u001b[39mbinary\u001b[39m\u001b[39m\"\u001b[39m, \u001b[39m\"\u001b[39m\u001b[39mmulticlass\u001b[39m\u001b[39m\"\u001b[39m):\n\u001b[0;32m    319\u001b[0m         \u001b[39mraise\u001b[39;00m \u001b[39mValueError\u001b[39;00m(\u001b[39m\"\u001b[39m\u001b[39m%s\u001b[39;00m\u001b[39m is not supported\u001b[39m\u001b[39m\"\u001b[39m \u001b[39m%\u001b[39m y_type)\n",
      "File \u001b[1;32mc:\\Users\\User\\AppData\\Local\\Programs\\Python\\Python311\\Lib\\site-packages\\sklearn\\metrics\\_classification.py:106\u001b[0m, in \u001b[0;36m_check_targets\u001b[1;34m(y_true, y_pred)\u001b[0m\n\u001b[0;32m    104\u001b[0m \u001b[39m# No metrics support \"multiclass-multioutput\" format\u001b[39;00m\n\u001b[0;32m    105\u001b[0m \u001b[39mif\u001b[39;00m y_type \u001b[39mnot\u001b[39;00m \u001b[39min\u001b[39;00m [\u001b[39m\"\u001b[39m\u001b[39mbinary\u001b[39m\u001b[39m\"\u001b[39m, \u001b[39m\"\u001b[39m\u001b[39mmulticlass\u001b[39m\u001b[39m\"\u001b[39m, \u001b[39m\"\u001b[39m\u001b[39mmultilabel-indicator\u001b[39m\u001b[39m\"\u001b[39m]:\n\u001b[1;32m--> 106\u001b[0m     \u001b[39mraise\u001b[39;00m \u001b[39mValueError\u001b[39;00m(\u001b[39m\"\u001b[39m\u001b[39m{0}\u001b[39;00m\u001b[39m is not supported\u001b[39m\u001b[39m\"\u001b[39m\u001b[39m.\u001b[39mformat(y_type))\n\u001b[0;32m    108\u001b[0m \u001b[39mif\u001b[39;00m y_type \u001b[39min\u001b[39;00m [\u001b[39m\"\u001b[39m\u001b[39mbinary\u001b[39m\u001b[39m\"\u001b[39m, \u001b[39m\"\u001b[39m\u001b[39mmulticlass\u001b[39m\u001b[39m\"\u001b[39m]:\n\u001b[0;32m    109\u001b[0m     y_true \u001b[39m=\u001b[39m column_or_1d(y_true)\n",
      "\u001b[1;31mValueError\u001b[0m: unknown is not supported"
     ]
    }
   ],
   "source": [
    "def plot_confusion_matrix(y_test:np.ndarray,y_preds:np.ndarray):\n",
    "        conf_matrix = confusion_matrix(y_test,y_preds)\n",
    "        sns.heatmap(conf_matrix,annot=True) \n",
    "\n",
    "\n",
    "import pandas as pd\n",
    "a = pd.DataFrame(ytest,dtype=pd.Int16Dtype)\n",
    "b=pd.DataFrame(ypreds,dtype=pd.Int16Dtype)\n",
    "\n",
    "\n",
    "\n",
    "confusion_matrix(a,b)\n",
    "#confusion_matrix(ytest,ypreds)\n",
    "#plot_confusion_matrix(ytest,ypreds)"
   ]
  }
 ],
 "metadata": {
  "kernelspec": {
   "display_name": "Python 3",
   "language": "python",
   "name": "python3"
  },
  "language_info": {
   "codemirror_mode": {
    "name": "ipython",
    "version": 3
   },
   "file_extension": ".py",
   "mimetype": "text/x-python",
   "name": "python",
   "nbconvert_exporter": "python",
   "pygments_lexer": "ipython3",
   "version": "3.11.2"
  },
  "orig_nbformat": 4
 },
 "nbformat": 4,
 "nbformat_minor": 2
}
