{
 "cells": [
  {
   "cell_type": "code",
   "execution_count": 36,
   "metadata": {},
   "outputs": [],
   "source": [
    "import pandas as pd\n",
    "import numpy as np\n",
    "from typing import Tuple\n",
    "from scipy.stats import mode\n",
    "from sklearn.metrics import confusion_matrix"
   ]
  },
  {
   "cell_type": "code",
   "execution_count": 37,
   "metadata": {},
   "outputs": [],
   "source": [
    "def load_csv(csv_path:str) ->Tuple[pd.DataFrame,pd.DataFrame]:\n",
    "        df = pd.read_csv(csv_path,na_values='\"\"',delimiter=',',header=None)\n",
    "        df = df.sample(frac=1,random_state=42).reset_index(drop=True)\n",
    "        x,y = df.iloc[:,:4],df.iloc[:,-1]\n",
    "        y = pd.DataFrame(y).reset_index(drop=True)\n",
    "        return x,y\n",
    "\n",
    "x,y = load_csv('iris.csv')\n",
    "#load_csv('iris.csv')\n",
    "#x,y\n",
    "# isinstance(x,pd.DataFrame)\n",
    "#isinstance(y,pd.DataFrame)\n",
    "#x,y"
   ]
  },
  {
   "attachments": {},
   "cell_type": "markdown",
   "metadata": {},
   "source": [
    "cleanup"
   ]
  },
  {
   "cell_type": "code",
   "execution_count": 38,
   "metadata": {},
   "outputs": [],
   "source": [
    "x[pd.isnull(x)] = 3.5\n",
    "\n",
    "y = y[x.min(axis=1) >= 0]\n",
    "x = x[x.min(axis=1) >= 0]\n",
    "y = y[x.max(axis=1) < 13]\n",
    "x = x[x.max(axis=1) < 13]\n",
    "#y = np.delete(y,np.where(x > 13.0)[0],axis=0)\n",
    "#x = np.delete(x,np.where(x < 0.0)[0],axis=0)\n",
    "#x = np.delete(x,np.where(x > 13.0)[0],axis=0)\n",
    "#x.shape,y.shape\n"
   ]
  },
  {
   "cell_type": "code",
   "execution_count": 39,
   "metadata": {},
   "outputs": [],
   "source": [
    "def train_test_split(features:pd.DataFrame,labels:pd.DataFrame,test_split_ratio:float) -> None:\n",
    "        test_size = int(len(features) * test_split_ratio)\n",
    "        train_size = len(features) - test_size\n",
    "        assert len(features) == test_size + train_size, \"Size mismatch!\"\n",
    "\n",
    "        x_train,y_train = features.iloc[:train_size,:],labels.iloc[:train_size]\n",
    "        x_test,y_test = features.iloc[train_size:train_size+test_size,:], labels.iloc[train_size:train_size + test_size]\n",
    "        return (x_train,y_train,x_test,y_test)\n",
    "        #self.x_train = x_train\n",
    "        #self.y_train = y_train\n",
    "        #self.x_test = x_test\n",
    "        #self.y_test = y_test\n",
    "\n",
    "x_train,y_train,x_test,y_test =train_test_split(x,y,0.15)\n",
    "#x_train.shape,y_train.shape,x_test.shape,y_test.shape"
   ]
  },
  {
   "cell_type": "code",
   "execution_count": 40,
   "metadata": {},
   "outputs": [],
   "source": [
    "def euclidean(x_train,element_of_x:pd.DataFrame) -> pd.DataFrame:\n",
    "        return pd.DataFrame(((x_train - element_of_x)**2).sum(axis=1).pow(1./2))\n",
    "\n"
   ]
  },
  {
   "cell_type": "code",
   "execution_count": 48,
   "metadata": {},
   "outputs": [],
   "source": [
    "def predict(k:int,x_test:pd.DataFrame,x_train:pd.DataFrame,y_train:pd.DataFrame) -> pd.DataFrame:\n",
    "        labels_pred = []\n",
    "        for idx,x_test_element in x_test.iterrows():\n",
    "            distances = euclidean(x_train,x_test_element)\n",
    "            distances['y']=y_train\n",
    "            distances.sort_values(by=[0],inplace=True)\n",
    "            label_pred = distances.head(k)['y'].mode()\n",
    "            #print(label_pred)\n",
    "            labels_pred.append(label_pred)\n",
    "\n",
    "        y_preds = pd.DataFrame(labels_pred)\n",
    "        return y_preds\n",
    "\n",
    "ypreds=predict(3,x_test,x_train,y_train)\n",
    "#print(ypreds.shape)"
   ]
  },
  {
   "cell_type": "code",
   "execution_count": 49,
   "metadata": {},
   "outputs": [
    {
     "data": {
      "text/plain": [
       "y    85.714286\n",
       "dtype: float64"
      ]
     },
     "execution_count": 49,
     "metadata": {},
     "output_type": "execute_result"
    }
   ],
   "source": [
    "def accuracy(y_test,y_preds) -> float:\n",
    "        y_test.reset_index(drop=True,inplace=True)\n",
    "        y_preds.reset_index(drop=True,inplace=True)\n",
    "        y_test.columns=['y']\n",
    "        y_preds.columns=['y']\n",
    "        true_positive = (y_test == y_preds).sum()\n",
    "        return true_positive / len(y_test) * 100\n",
    "\n",
    "\n",
    "\n",
    "accuracy(y_test,ypreds)"
   ]
  },
  {
   "cell_type": "code",
   "execution_count": 50,
   "metadata": {},
   "outputs": [
    {
     "name": "stdout",
     "output_type": "stream",
     "text": [
      "[[5 0 0]\n",
      " [0 6 0]\n",
      " [0 3 7]]\n"
     ]
    }
   ],
   "source": [
    "def plot_confusion_matrix(y_test:pd.DataFrame,y_preds:pd.DataFrame):\n",
    "        \n",
    "        conf_matrix = confusion_matrix(y_test,y_preds)\n",
    "        return conf_matrix\n",
    "\n",
    "\n",
    "\n",
    "\n",
    "cf = plot_confusion_matrix(y_test,ypreds)\n",
    "print(cf)"
   ]
  }
 ],
 "metadata": {
  "kernelspec": {
   "display_name": "Python 3",
   "language": "python",
   "name": "python3"
  },
  "language_info": {
   "codemirror_mode": {
    "name": "ipython",
    "version": 3
   },
   "file_extension": ".py",
   "mimetype": "text/x-python",
   "name": "python",
   "nbconvert_exporter": "python",
   "pygments_lexer": "ipython3",
   "version": "3.11.2"
  },
  "orig_nbformat": 4
 },
 "nbformat": 4,
 "nbformat_minor": 2
}
