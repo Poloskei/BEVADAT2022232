{
 "cells": [
  {
   "cell_type": "code",
   "execution_count": 2,
   "metadata": {},
   "outputs": [],
   "source": [
    "import pandas as pd\n",
    "from typing import Tuple\n",
    "from scipy.stats import mode\n",
    "from sklearn.metrics import confusion_matrix"
   ]
  },
  {
   "cell_type": "code",
   "execution_count": 7,
   "metadata": {},
   "outputs": [],
   "source": [
    "def load_csv(csv_path:str) ->Tuple[pd.DataFrame,pd.DataFrame]:\n",
    "        #np.random.seed(42)\n",
    "        df = pd.read_csv(csv_path,delimiter=',')\n",
    "        df.sample(frac=1,random_state=42).reset_index(drop=True)\n",
    "        x,y = df.iloc[:,:4],df.iloc[:,-1]\n",
    "        return x,y\n",
    "\n",
    "x,y = load_csv('iris.csv')\n",
    "#load_csv('iris.csv')"
   ]
  },
  {
   "cell_type": "code",
   "execution_count": null,
   "metadata": {},
   "outputs": [],
   "source": [
    "def train_test_split(self,features:pd.DataFrame,labels:pd.DataFrame) -> None:\n",
    "        test_size = int(len(features) * self.test_split_ratio)\n",
    "        train_size = len(features) - test_size\n",
    "        assert len(features) == test_size + train_size, \"Size mismatch!\"\n",
    "\n",
    "        x_train,y_train = features.iloc[:train_size,:],labels.iloc[:train_size]\n",
    "        x_test,y_test = features.iloc[train_size:train_size+test_size,:], labels.iloc[train_size:train_size + test_size]\n",
    "        #return (x_train,y_train,x_test,y_test)\n",
    "        self.x_train = x_train\n",
    "        self.y_train = y_train\n",
    "        self.x_test = x_test\n",
    "        self.y_test = y_test\n",
    "\n"
   ]
  },
  {
   "cell_type": "code",
   "execution_count": null,
   "metadata": {},
   "outputs": [],
   "source": [
    "def euclidean(self,element_of_x:pd.DataFrame) -> pd.DataFrame:\n",
    "        return ((self.x_train - element_of_x).sum()**2).pow(1./2)\n",
    "\n"
   ]
  },
  {
   "cell_type": "code",
   "execution_count": null,
   "metadata": {},
   "outputs": [],
   "source": [
    "def predict(self,x_test:np.ndarray) -> np.ndarray:\n",
    "        labels_pred = []\n",
    "        for x_test_element in x_test:\n",
    "            distances = self.euclidean(x_test_element)\n",
    "            distances = np.array(sorted(zip(distances,self.y_train)))\n",
    "            label_pred = mode(distances[:self.k,1],keepdims=False).mode\n",
    "            labels_pred.append(label_pred)\n",
    "        self.y_preds = np.array(labels_pred,dtype=np.int32)"
   ]
  },
  {
   "cell_type": "code",
   "execution_count": null,
   "metadata": {},
   "outputs": [],
   "source": [
    "def accuracy(self) -> float:\n",
    "        true_positive = (self.y_test == self.y_preds).sum()\n",
    "        return true_positive / len(self.y_test) * 100"
   ]
  },
  {
   "cell_type": "code",
   "execution_count": null,
   "metadata": {},
   "outputs": [],
   "source": [
    "def confusion_matrix(self):\n",
    "        conf_matrix = confusion_matrix(self.y_test,self.y_preds)\n",
    "        return conf_matrixs"
   ]
  }
 ],
 "metadata": {
  "kernelspec": {
   "display_name": "Python 3",
   "language": "python",
   "name": "python3"
  },
  "language_info": {
   "codemirror_mode": {
    "name": "ipython",
    "version": 3
   },
   "file_extension": ".py",
   "mimetype": "text/x-python",
   "name": "python",
   "nbconvert_exporter": "python",
   "pygments_lexer": "ipython3",
   "version": "3.11.2"
  },
  "orig_nbformat": 4
 },
 "nbformat": 4,
 "nbformat_minor": 2
}
